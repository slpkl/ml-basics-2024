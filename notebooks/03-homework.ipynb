{
 "cells": [
  {
   "cell_type": "code",
   "execution_count": null,
   "id": "3f6585ee-7818-4fa6-916d-6b7aaee6ff4e",
   "metadata": {},
   "outputs": [],
   "source": []
  },
  {
   "cell_type": "code",
   "execution_count": 7,
   "id": "1f77486b-6900-448e-b5bf-77ce865efada",
   "metadata": {},
   "outputs": [],
   "source": [
    "from sklearn.neighbors import KNeighborsClassifier"
   ]
  },
  {
   "cell_type": "code",
   "execution_count": null,
   "id": "ea43fd6b",
   "metadata": {},
   "outputs": [],
   "source": []
  },
  {
   "cell_type": "markdown",
   "id": "8ab2ad76-5617-436c-bad2-25cf033c1166",
   "metadata": {},
   "source": [
    "# Домашнее задание\n",
    "\n",
    "Работаем с датасетом про дорожные знаки.\n",
    "\n",
    "https://www.kaggle.com/datasets/valentynsichkar/traffic-signs-preprocessed/data\n",
    "\n",
    "В первых двух задачах берем только файл train.pickle и можно подгрузить labels_names.csv\n",
    "\n",
    "Данные можно прочитать через `pd.read_pickle`\n",
    "\n",
    "## Easy\n",
    "\n",
    "Скачать датасет, обучить логистическую регрессию, измерить качество.\n",
    "\n",
    "Текстом кратко обосновать какую метрику выбираем и почему такую.\n",
    "\n",
    "Какой вид дорожных знаков модель путает чаще всего?\n",
    "\n",
    "## Medium\n",
    "\n",
    "Обучить и сравнить между собой:\n",
    "\n",
    "- логистическая регрессия\n",
    "- kNN\n",
    "- НБК\n",
    "- SVM (попробовать 3 разных ядра)\n",
    "\n",
    "Какая модель отработала лучше, а какая хуже всех?\n",
    "\n",
    "Проинтерпретируйте почему худшая модель именно эта.\n",
    "\n",
    "## Hard\n",
    "\n",
    "Вы - ML-инженер в команде беспилотных автомобилей! Ваша следующая цель - сделать алгоритм, который будет распознавать дорожные знаки. Другая команда уже позаботилась о подготовке данных - вам приходят обрезанные картинки 32х32. Но есть проблема - разметка стоит денег, у проекта есть бюджетные ограничения, но вам готовы выделить тот бюджет, который вы сможете обосновать.\n",
    "\n",
    "Определите сколько и каких семплов данных необходимо для того, чтобы обучить достаточно хороший алгоритм.\n",
    "\n",
    "**Подсказка:** При анализе изображений обычно делают специальную предобработку - картинки крутят-вертят, по-разному меняют цвета. Рядом с данными лежит питоновский скрипт, может быть он поможет уменьшить необходимое количество семплов?"
   ]
  },
  {
   "cell_type": "code",
   "execution_count": 1,
   "id": "5c5ae410-b50a-4e02-a68c-41e3dd59c8e4",
   "metadata": {},
   "outputs": [],
   "source": [
    "# Для интерпретируемости результатов зафиксируем:\n",
    "random_seed = 42"
   ]
  },
  {
   "cell_type": "code",
   "execution_count": 2,
   "id": "5baeb3b5-f79a-4f0d-84fb-5290a3083915",
   "metadata": {},
   "outputs": [],
   "source": [
    "import pandas as pd\n",
    "import numpy as np\n",
    "import matplotlib.pyplot as plt\n",
    "from sklearn.metrics import accuracy_score, confusion_matrix, f1_score, precision_score, recall_score, balanced_accuracy_score\n",
    "from sklearn.model_selection import train_test_split\n",
    "from sklearn.linear_model import LogisticRegression\n",
    "from sklearn.neighbors import KNeighborsClassifier\n",
    "from sklearn.preprocessing import minmax_scale\n",
    "from sklearn.naive_bayes import MultinomialNB\n",
    "from sklearn.svm import SVC"
   ]
  },
  {
   "cell_type": "code",
   "execution_count": 3,
   "id": "ea39ee19-5a04-4240-8e46-d6a3ccb0d4ec",
   "metadata": {},
   "outputs": [],
   "source": [
    "filepath = '../data/train.pickle'\n",
    "df = pd.read_pickle(filepath)\n",
    "y = df['labels']\n",
    "x = df['features']"
   ]
  },
  {
   "cell_type": "code",
   "execution_count": 4,
   "id": "a9d002c2-e558-4c0e-a311-80474f179e1b",
   "metadata": {},
   "outputs": [
    {
     "data": {
      "text/html": [
       "<div>\n",
       "<style scoped>\n",
       "    .dataframe tbody tr th:only-of-type {\n",
       "        vertical-align: middle;\n",
       "    }\n",
       "\n",
       "    .dataframe tbody tr th {\n",
       "        vertical-align: top;\n",
       "    }\n",
       "\n",
       "    .dataframe thead th {\n",
       "        text-align: right;\n",
       "    }\n",
       "</style>\n",
       "<table border=\"1\" class=\"dataframe\">\n",
       "  <thead>\n",
       "    <tr style=\"text-align: right;\">\n",
       "      <th></th>\n",
       "      <th>ClassId</th>\n",
       "      <th>SignName</th>\n",
       "    </tr>\n",
       "  </thead>\n",
       "  <tbody>\n",
       "    <tr>\n",
       "      <th>0</th>\n",
       "      <td>0</td>\n",
       "      <td>Speed limit (20km/h)</td>\n",
       "    </tr>\n",
       "    <tr>\n",
       "      <th>1</th>\n",
       "      <td>1</td>\n",
       "      <td>Speed limit (30km/h)</td>\n",
       "    </tr>\n",
       "    <tr>\n",
       "      <th>2</th>\n",
       "      <td>2</td>\n",
       "      <td>Speed limit (50km/h)</td>\n",
       "    </tr>\n",
       "    <tr>\n",
       "      <th>3</th>\n",
       "      <td>3</td>\n",
       "      <td>Speed limit (60km/h)</td>\n",
       "    </tr>\n",
       "    <tr>\n",
       "      <th>4</th>\n",
       "      <td>4</td>\n",
       "      <td>Speed limit (70km/h)</td>\n",
       "    </tr>\n",
       "  </tbody>\n",
       "</table>\n",
       "</div>"
      ],
      "text/plain": [
       "   ClassId              SignName\n",
       "0        0  Speed limit (20km/h)\n",
       "1        1  Speed limit (30km/h)\n",
       "2        2  Speed limit (50km/h)\n",
       "3        3  Speed limit (60km/h)\n",
       "4        4  Speed limit (70km/h)"
      ]
     },
     "execution_count": 4,
     "metadata": {},
     "output_type": "execute_result"
    }
   ],
   "source": [
    "labels_names = pd.read_csv('../data/label_names.csv')\n",
    "df_labels_names = pd.DataFrame(labels_names)\n",
    "df_labels_names.head()"
   ]
  },
  {
   "cell_type": "code",
   "execution_count": 6,
   "id": "8e6983fb-146f-46b1-82e8-c2b235a23299",
   "metadata": {},
   "outputs": [
    {
     "data": {
      "image/png": "[encoded data removed]",
      "text/plain": [
       "<Figure size 640x480 with 1 Axes>"
      ]
     },
     "metadata": {},
     "output_type": "display_data"
    }
   ],
   "source": [
    "# Посмотрим на распределения классов. Наблюдаем сильный дисбаналс(например, между 0 и 20 классом). Поэтому метрика \n",
    "# accuracy не будет показательной.\n",
    "\n",
    "plt.hist(y, bins=20)\n",
    "plt.xticks(list(range(43)), rotation=90)\n",
    "plt.show()"
   ]
  },
  {
   "cell_type": "code",
   "execution_count": 7,
   "id": "ca1187a7-3f1c-4546-874e-aa8057d40934",
   "metadata": {},
   "outputs": [],
   "source": [
    "# Разделим на train и test в пропорции 75 на 25 так, чтобы в обоих выборках встречались 'одинаково' все 43 класса\n",
    "x_train, x_test, y_train, y_test = train_test_split(x, y, stratify=y)"
   ]
  },
  {
   "cell_type": "code",
   "execution_count": 8,
   "id": "3761601d-97e1-460a-8d95-ad6e4be44927",
   "metadata": {},
   "outputs": [],
   "source": [
    "# Нормализуем данные\n",
    "x_train_normalized = (x_train - x_train.mean()) / x_train.std()\n",
    "x_test_normalized = (x_test - x_test.mean()) / x_test.std()"
   ]
  },
  {
   "cell_type": "code",
   "execution_count": 9,
   "id": "d8203acc-9fd4-4bf3-96ac-0b500c4e3240",
   "metadata": {},
   "outputs": [],
   "source": [
    "# Преобразуем x_train и x_test в двумерные массивы(каждую картинку-матрицу развернем в вектор)\n",
    "x_train_flattened = x_train_normalized.reshape(x_train_normalized.shape[0], -1) \n",
    "x_test_flattened = x_test_normalized.reshape(x_test_normalized.shape[0],-1)"
   ]
  },
  {
   "cell_type": "code",
   "execution_count": 10,
   "id": "03a4ffbd-1356-4b72-a076-c844fa7a32f5",
   "metadata": {},
   "outputs": [
    {
     "name": "stderr",
     "output_type": "stream",
     "text": [
      "/home/anastasia/.local/lib/python3.10/site-packages/sklearn/linear_model/_logistic.py:460: ConvergenceWarning: lbfgs failed to converge (status=1):\n",
      "STOP: TOTAL NO. of ITERATIONS REACHED LIMIT.\n",
      "\n",
      "Increase the number of iterations (max_iter) or scale the data as shown in:\n",
      "    https://scikit-learn.org/stable/modules/preprocessing.html\n",
      "Please also refer to the documentation for alternative solver options:\n",
      "    https://scikit-learn.org/stable/modules/linear_model.html#logistic-regression\n",
      "  n_iter_i = _check_optimize_result(\n"
     ]
    }
   ],
   "source": [
    "# Обучим модель с max_iter = 100\n",
    "model = LogisticRegression(random_state=random_seed, max_iter=100)\n",
    "model.fit(x_train_flattened, y_train)\n",
    "y_pred = model.predict(x_test_flattened)"
   ]
  },
  {
   "cell_type": "code",
   "execution_count": 11,
   "id": "7dbb7f34-e22d-4722-ab17-de534cc124d3",
   "metadata": {},
   "outputs": [
    {
     "name": "stdout",
     "output_type": "stream",
     "text": [
      "[[ 38   6   0 ...   0   0   0]\n",
      " [  1 466  12 ...   0   0   0]\n",
      " [  0  15 460 ...   0   0   0]\n",
      " ...\n",
      " [  0   0   0 ...  74   0   0]\n",
      " [  0   0   0 ...   0  47   2]\n",
      " [  0   0   0 ...   0   0  50]]\n"
     ]
    }
   ],
   "source": [
    "# Для начала посмотрим матрицу ошибок:\n",
    "df_confusion = confusion_matrix(y_test, y_pred)\n",
    "print(df_confusion)"
   ]
  },
  {
   "cell_type": "code",
   "execution_count": 12,
   "id": "4eaa7883-a76c-4acc-b342-615ef72160b1",
   "metadata": {},
   "outputs": [
    {
     "data": {
      "text/plain": [
       "<Figure size 5000x5000 with 0 Axes>"
      ]
     },
     "metadata": {},
     "output_type": "display_data"
    },
    {
     "data": {
      "image/png": "[encoded data removed]",
      "text/plain": [
       "<Figure size 480x480 with 2 Axes>"
      ]
     },
     "metadata": {},
     "output_type": "display_data"
    }
   ],
   "source": [
    "plt.figure(figsize=(50, 50))\n",
    "plt.matshow(df_confusion)\n",
    "plt.colorbar()\n",
    "tick_marks = np.arange(len(df_confusion))\n",
    "plt.xticks(tick_marks, rotation=90)\n",
    "plt.yticks(tick_marks)\n",
    "    #plt.tight_layout()\n",
    "plt.show()"
   ]
  },
  {
   "cell_type": "code",
   "execution_count": 13,
   "id": "21c425c1-54d4-404d-a719-885a381852a2",
   "metadata": {},
   "outputs": [
    {
     "data": {
      "text/plain": [
       "0.9437931034482758"
      ]
     },
     "execution_count": 13,
     "metadata": {},
     "output_type": "execute_result"
    }
   ],
   "source": [
    "# Для начала посчитаем accuracy(непоказательная метрика, так как, скорее всего, не предсказыавет редко встречающийся класс, \n",
    "# но если и она плохая, то что-то не так)\n",
    "accuracy = accuracy_score(y_test, y_pred)\n",
    "accuracy"
   ]
  },
  {
   "cell_type": "code",
   "execution_count": 14,
   "id": "c1c7374c-18d9-4949-9d8c-aae1e702ac8f",
   "metadata": {},
   "outputs": [
    {
     "data": {
      "text/plain": [
       "0.9305971265467051"
      ]
     },
     "execution_count": 14,
     "metadata": {},
     "output_type": "execute_result"
    }
   ],
   "source": [
    "# посчитаем balanced_accuracy. Эта метрика считается как сумма по k отношений кол-ва правильных предсказаний класса k  \n",
    "# и кол-ва элементов класса k - тем самым учитываются уже и редко встречающиеся классы.\n",
    "balanced_accuracy = balanced_accuracy_score(y_test, y_pred)\n",
    "balanced_accuracy"
   ]
  },
  {
   "cell_type": "code",
   "execution_count": 15,
   "id": "922ba756-a57f-4d16-b22c-3b2e896176cd",
   "metadata": {},
   "outputs": [
    {
     "name": "stdout",
     "output_type": "stream",
     "text": [
      "precision_weighted: 0.9442329245976169\n",
      "precision_micro: 0.9437931034482758\n",
      "precision_macro: 0.9401583841474278\n",
      "recall_weighted: 0.9437931034482758\n",
      "recall_micro: 0.9437931034482758\n",
      "recall_macro: 0.9305971265467051\n",
      "f1_micro: 0.9437931034482758\n",
      "f1_macro: 0.9344955512800464\n",
      "f1_weighted: 0.943588207421544\n"
     ]
    }
   ],
   "source": [
    "# Посчитаем precision, recall, f_1 с различными усреднениями\n",
    "\n",
    "# В качестве основной и самой показательной метрики я бы выбрала f_1 с усреднением macro.\n",
    "# f1 - так как учитвает одновременно и precision, и recall.\n",
    "# macro усреднение - так как считаем precision, recall для каждого классификатора отдельно, а потом усредняем.\n",
    "precision_weighted = precision_score(y_test, y_pred, average = 'weighted')\n",
    "precision_micro = precision_score(y_test, y_pred, average = 'micro')\n",
    "precision_macro = precision_score(y_test, y_pred, average = 'macro')\n",
    "\n",
    "metrics = {\n",
    "    'precision_weighted': precision_score(y_test, y_pred, average = 'weighted'),\n",
    "    'precision_micro': precision_score(y_test, y_pred, average = 'micro'),\n",
    "    'precision_macro': precision_score(y_test, y_pred, average = 'macro'),\n",
    "    'recall_weighted': recall_score(y_test, y_pred, average = 'weighted'),\n",
    "    'recall_micro': recall_score(y_test, y_pred, average = 'micro'),\n",
    "    'recall_macro': recall_score(y_test, y_pred, average = 'macro'),\n",
    "    'f1_micro': f1_score(y_test, y_pred, average = 'micro'),\n",
    "    'f1_macro': f1_score(y_test, y_pred, average = 'macro'),\n",
    "    'f1_weighted': f1_score(y_test, y_pred, average = 'weighted')\n",
    "}\n",
    "\n",
    "for key, value in metrics.items():\n",
    "    print(f'{key}: {value}')"
   ]
  },
  {
   "cell_type": "code",
   "execution_count": 16,
   "id": "34f86301-d8b5-41ad-9dd7-f5cc0725fc57",
   "metadata": {},
   "outputs": [
    {
     "data": {
      "text/plain": [
       "'Road narrows on the right'"
      ]
     },
     "execution_count": 16,
     "metadata": {},
     "output_type": "execute_result"
    }
   ],
   "source": [
    "# Чтобы понять, какой вид знаков модель распознает хуже всего, выведем класс с минимальным f1_score\n",
    "# f1_none содержит f1_score посчитанный для каждого класса в интерпретации one vs all\n",
    "f1_none = f1_score(y_test, y_pred, average = None)\n",
    "min_index = np.argmin(f1_none)\n",
    "df_labels_names['SignName'][min_index]"
   ]
  },
  {
   "cell_type": "code",
   "execution_count": 17,
   "id": "293b953c-0054-4d0c-9f4b-883f0d85aee7",
   "metadata": {},
   "outputs": [
    {
     "data": {
      "text/plain": [
       "0.878943746254735"
      ]
     },
     "execution_count": 17,
     "metadata": {},
     "output_type": "execute_result"
    }
   ],
   "source": [
    "# Обучим Knn\n",
    "classifier = KNeighborsClassifier()\n",
    "classifier.fit(x_train_flattened, y_train)\n",
    "y_pred_knn = classifier.predict(x_test_flattened)\n",
    "f1_macro = f1_score(y_test, y_pred_knn, average = 'macro')\n",
    "f1_macro"
   ]
  },
  {
   "cell_type": "code",
   "execution_count": 18,
   "id": "7465a578-0a92-4f2b-8e6d-64dc19a2a84a",
   "metadata": {},
   "outputs": [],
   "source": [
    "# Для Наивного Байесовского классификатора используем min_max нормировку с feature_range=(0, 1)\n",
    "# чтобы не было отриц значений\n",
    "x_test_flattened_normalized = minmax_scale(x_test_flattened)\n",
    "x_train_flattened_normalized = minmax_scale(x_train_flattened)"
   ]
  },
  {
   "cell_type": "code",
   "execution_count": 19,
   "id": "ef62e849-744f-408c-b000-b987cf8daf88",
   "metadata": {},
   "outputs": [
    {
     "data": {
      "text/plain": [
       "0.32871795873728255"
      ]
     },
     "execution_count": 19,
     "metadata": {},
     "output_type": "execute_result"
    }
   ],
   "source": [
    "classifier_Bayes = MultinomialNB()\n",
    "classifier_Bayes.fit(x_train_flattened_normalized, y_train)\n",
    "y_pred_bayes = classifier_Bayes.predict(x_test_flattened_normalized)\n",
    "f1_macro = f1_score(y_test, y_pred_bayes, average = 'macro')\n",
    "f1_macro"
   ]
  },
  {
   "cell_type": "code",
   "execution_count": 72,
   "id": "4fa7361c-6f03-4e16-9ea0-dd37ffb6e863",
   "metadata": {},
   "outputs": [
    {
     "name": "stderr",
     "output_type": "stream",
     "text": [
      "/home/anastasia/.local/lib/python3.10/site-packages/sklearn/svm/_base.py:297: ConvergenceWarning: Solver terminated early (max_iter=100).  Consider pre-processing your data with StandardScaler or MinMaxScaler.\n",
      "  warnings.warn(\n"
     ]
    },
    {
     "name": "stdout",
     "output_type": "stream",
     "text": [
      "linear 0.8188121618280971\n"
     ]
    },
    {
     "name": "stderr",
     "output_type": "stream",
     "text": [
      "/home/anastasia/.local/lib/python3.10/site-packages/sklearn/svm/_base.py:297: ConvergenceWarning: Solver terminated early (max_iter=100).  Consider pre-processing your data with StandardScaler or MinMaxScaler.\n",
      "  warnings.warn(\n"
     ]
    },
    {
     "name": "stdout",
     "output_type": "stream",
     "text": [
      "poly 0.2730416546270209\n"
     ]
    },
    {
     "name": "stderr",
     "output_type": "stream",
     "text": [
      "/home/anastasia/.local/lib/python3.10/site-packages/sklearn/svm/_base.py:297: ConvergenceWarning: Solver terminated early (max_iter=100).  Consider pre-processing your data with StandardScaler or MinMaxScaler.\n",
      "  warnings.warn(\n"
     ]
    },
    {
     "name": "stdout",
     "output_type": "stream",
     "text": [
      "rbf 0.6038472119292808\n"
     ]
    }
   ],
   "source": [
    "# Обучим SVM, метрика так же f_1 macro\n",
    "\n",
    "for kernel in ['linear', 'poly', 'rbf']:\n",
    "    model_svc = SVC(kernel=kernel, random_state = random_seed, max_iter=100)\n",
    "    model_svc.fit(x_train_flattened_normalized, y_train)\n",
    "    y_pred_svc = model_svc.predict(x_test_flattened_normalized)\n",
    "    print(kernel, f1_score(y_test, y_pred_svc, average = 'macro'))"
   ]
  },
  {
   "cell_type": "code",
   "execution_count": 20,
   "id": "20eb365e-1fa3-410b-b5e1-0aabadcf84e8",
   "metadata": {},
   "outputs": [],
   "source": [
    "# Выводы:\n",
    "# 1)Лучшего всего отработала логистическая регрессия, так как она дает наилучшие метрики на данных, которые линейно разделимы.\n",
    "# 2)Xуже всего отработало poly- SVM. Так как linear SVM отработало хорошо, можем сделать вывод, что данные\n",
    "# хорошо разделяются гиперплоскостью, и соответственно, плохо разделаются чем-то нелинейным.\n",
    "# 3) Не сильно лучше, чем poly SVM отработал наивный Байесовский классификатор.\n",
    "# Объяснение: Для наивного Байесовского классификатора мы предполагаем, что признаки попарно независимы для каждого\n",
    "# объекта обучающей выборки\n",
    "# Но в данном случае признаки объекта обучающей выборки - это цвета 32*32*3 пикселей у изображения. Понятно, что точно есть зависимость и \n",
    "# достаточно сильная - например, если отдельно взятый пиксель белый, то и n пикселей вокруг будут скорее всего белыми\n",
    "# следовательно, он будет работать очень плохо"
   ]
  }
 ],
 "metadata": {
  "kernelspec": {
   "display_name": "Python 3 (ipykernel)",
   "language": "python",
   "name": "python3"
  },
  "language_info": {
   "codemirror_mode": {
    "name": "ipython",
    "version": 3
   },
   "file_extension": ".py",
   "mimetype": "text/x-python",
   "name": "python",
   "nbconvert_exporter": "python",
   "pygments_lexer": "ipython3",
   "version": "3.10.12"
  }
 },
 "nbformat": 4,
 "nbformat_minor": 5
}
